{
 "cells": [
  {
   "cell_type": "code",
   "execution_count": 3,
   "id": "4d1699c8-ef0f-427f-ab86-e6897ce7bd2d",
   "metadata": {},
   "outputs": [],
   "source": [
    "import copy\n",
    "from collections import deque\n"
   ]
  },
  {
   "cell_type": "code",
   "execution_count": 5,
   "id": "4693a15b-0bf7-4c01-9d00-8a71ed21f73b",
   "metadata": {},
   "outputs": [],
   "source": [
    "class Sudoku_AI_solver:\n",
    "    def __init__(self, board):\n",
    "        self.board = board\n",
    "        self.domains = {\n",
    "            (i, j): [self.board[i][j]] if self.board[i][j] != 0 else list(range(1, 10))\n",
    "            for i in range(9) for j in range(9)\n",
    "        }\n",
    "\n",
    "    def enforce_node_consistency(self):\n",
    "        \"\"\"Remove any values from a cell's domain that violate Sudoku rules.\"\"\"\n",
    "        for (i, j), values in self.domains.items():\n",
    "            if self.board[i][j] != 0:\n",
    "                self.domains[(i, j)] = [self.board[i][j]]\n",
    "\n",
    "    def revise(self, x, y):\n",
    "        \"\"\"Make variable x arc consistent with variable y.\"\"\"\n",
    "        revised = False\n",
    "        for value in self.domains[x][:]:\n",
    "            if all(value == other_value for other_value in self.domains[y]):\n",
    "                self.domains[x].remove(value)\n",
    "                revised = True\n",
    "        return revised\n",
    "\n",
    "    def ac3(self):\n",
    "        \"\"\"Use the AC-3 algorithm to make the puzzle arc consistent.\"\"\"\n",
    "        queue = deque((x, y) for x in self.domains for y in self.neighbors(x))\n",
    "        while queue:\n",
    "            x, y = queue.popleft()\n",
    "            if self.revise(x, y):\n",
    "                if not self.domains[x]:\n",
    "                    return False\n",
    "                for z in self.neighbors(x) - {y}:\n",
    "                    queue.append((z, x))\n",
    "        return True\n",
    "\n",
    "    def neighbors(self, cell):\n",
    "        \"\"\"Return a set of neighbors for a given cell.\"\"\"\n",
    "        i, j = cell\n",
    "        row = {(i, y) for y in range(9)}\n",
    "        col = {(x, j) for x in range(9)}\n",
    "        box = {\n",
    "            (x, y)\n",
    "            for x in range(i // 3 * 3, i // 3 * 3 + 3)\n",
    "            for y in range(j // 3 * 3, j // 3 * 3 + 3)\n",
    "        }\n",
    "        return (row | col | box) - {cell}\n",
    "\n",
    "    def assignment_complete(self, assignment):\n",
    "        \"\"\"Check if every cell has been assigned a value.\"\"\"\n",
    "        return all(len(values) == 1 for values in assignment.values())\n",
    "\n",
    "    def consistent(self, assignment):\n",
    "        \"\"\"Check if the assignment is consistent.\"\"\"\n",
    "        for cell, values in assignment.items():\n",
    "            if len(values) > 1:\n",
    "                continue\n",
    "            for neighbor in self.neighbors(cell):\n",
    "                if len(assignment[neighbor]) == 1 and assignment[neighbor] == values:\n",
    "                    return False\n",
    "        return True\n",
    "\n",
    "    def order_domain_values(self, var, assignment):\n",
    "        \"\"\"Order values in the domain of var by least constraining value.\"\"\"\n",
    "        return sorted(self.domains[var], key=lambda value: self.count_conflicts(var, value))\n",
    "\n",
    "    def count_conflicts(self, var, value):\n",
    "        \"\"\"Count the number of conflicts that assigning value to var would produce.\"\"\"\n",
    "        return sum(\n",
    "            1\n",
    "            for neighbor in self.neighbors(var)\n",
    "            if value in self.domains[neighbor]\n",
    "        )\n",
    "\n",
    "    def select_unassigned_variable(self, assignment):\n",
    "        \"\"\"Choose the next variable to assign using MRV and Degree heuristics.\"\"\"\n",
    "        unassigned = [v for v in assignment if len(assignment[v]) > 1]\n",
    "        return min(unassigned, key=lambda var: (len(assignment[var]), -len(self.neighbors(var))))\n",
    "\n",
    "    def backtrack(self, assignment):\n",
    "        \"\"\"Perform backtracking search to solve the puzzle.\"\"\"\n",
    "        if self.assignment_complete(assignment):\n",
    "            return assignment\n",
    "\n",
    "        var = self.select_unassigned_variable(assignment)\n",
    "        for value in self.order_domain_values(var, assignment):\n",
    "            new_assignment = copy.deepcopy(assignment)\n",
    "            new_assignment[var] = [value]\n",
    "            if self.consistent(new_assignment):\n",
    "                result = self.backtrack(new_assignment)\n",
    "                if result:\n",
    "                    return result\n",
    "        return None\n",
    "\n",
    "    def solve(self):\n",
    "        \"\"\"Solve the Sudoku puzzle.\"\"\"\n",
    "        self.enforce_node_consistency()\n",
    "        if not self.ac3():\n",
    "            return None\n",
    "        return self.backtrack(self.domains)\n"
   ]
  },
  {
   "cell_type": "code",
   "execution_count": 7,
   "id": "5fbb0103-fc34-4410-a07e-084c79b504a1",
   "metadata": {},
   "outputs": [],
   "source": [
    "def parse_board(filename):\n",
    "    \"\"\"Parse a Sudoku board from a file.\"\"\"\n",
    "    with open(filename, \"r\") as file:\n",
    "        return [list(map(int, line.strip().split())) for line in file if line.strip()]\n",
    "\n",
    "def print_board(board):\n",
    "    \"\"\"Print a Sudoku board.\"\"\"\n",
    "    for i, row in enumerate(board):\n",
    "        if i % 3 == 0 and i > 0:\n",
    "            print(\"-\" * 21)\n",
    "        print(\" \".join(str(cell) if cell != 0 else \".\" for cell in row))\n",
    "\n",
    "def solve_and_display(filename):\n",
    "    \"\"\"Solve a Sudoku puzzle and display the results.\"\"\"\n",
    "    board = parse_board(filename)\n",
    "    print(\"Initial Board:\")\n",
    "    print_board(board)\n",
    "\n",
    "    solver = Sudoku_AI_solver(board)\n",
    "    solution = solver.solve()\n",
    "\n",
    "    if solution:\n",
    "        print(\"\\nSolved Board:\")\n",
    "        solved_board = [[solution[(i, j)][0] for j in range(9)] for i in range(9)]\n",
    "        print_board(solved_board)\n",
    "    else:\n",
    "        print(\"No solution found.\")\n"
   ]
  },
  {
   "cell_type": "code",
   "execution_count": 9,
   "id": "5e78c3cc-2f1b-4760-b1b4-eb2d9c3c2fb7",
   "metadata": {},
   "outputs": [
    {
     "name": "stdout",
     "output_type": "stream",
     "text": [
      "C:\\Users\\shing\n"
     ]
    }
   ],
   "source": [
    "import os\n",
    "print(os.getcwd())\n"
   ]
  },
  {
   "cell_type": "code",
   "execution_count": 11,
   "id": "e2684218-f96f-4e72-a1a8-68367933cfd9",
   "metadata": {},
   "outputs": [
    {
     "name": "stdout",
     "output_type": "stream",
     "text": [
      "Initial Board:\n",
      "5 3 . . 7 . . . .\n",
      "6 . . 1 9 5 . . .\n",
      ". 9 8 . . . . 6 .\n",
      "---------------------\n",
      "8 . . . 6 . . . 3\n",
      "4 . . 8 . 3 . . 1\n",
      "7 . . . 2 . . . 6\n",
      "---------------------\n",
      ". 6 . . . . 2 8 .\n",
      ". . . 4 1 9 . . 5\n",
      ". . . . 8 . . 7 9\n",
      "\n",
      "Solved Board:\n",
      "5 3 4 6 7 8 9 1 2\n",
      "6 7 2 1 9 5 3 4 8\n",
      "1 9 8 3 4 2 5 6 7\n",
      "---------------------\n",
      "8 5 9 7 6 1 4 2 3\n",
      "4 2 6 8 5 3 7 9 1\n",
      "7 1 3 9 2 4 8 5 6\n",
      "---------------------\n",
      "9 6 1 5 3 7 2 8 4\n",
      "2 8 7 4 1 9 6 3 5\n",
      "3 4 5 2 8 6 1 7 9\n"
     ]
    }
   ],
   "source": [
    "solve_and_display(r\"C:\\Users\\shing\\Puzzles\\sudoku_easy.txt.txt\")"
   ]
  },
  {
   "cell_type": "code",
   "execution_count": 13,
   "id": "2d19ee23-231f-4a66-b1a6-bf24e0d504b4",
   "metadata": {},
   "outputs": [
    {
     "name": "stdout",
     "output_type": "stream",
     "text": [
      "Initial Board:\n",
      ". . . 6 . . 4 . .\n",
      "7 . . . . 3 6 . .\n",
      ". . . . 9 1 . 8 .\n",
      "---------------------\n",
      ". . . . . . . . .\n",
      ". 5 . 1 8 . . . 3\n",
      ". . . 3 . 6 . 4 5\n",
      "---------------------\n",
      ". 4 . 2 . . . 6 .\n",
      "9 . 3 . . . . . .\n",
      ". 2 . . . . 1 . .\n",
      "\n",
      "Solved Board:\n",
      "5 8 1 6 7 2 4 3 9\n",
      "7 9 2 8 4 3 6 5 1\n",
      "3 6 4 5 9 1 7 8 2\n",
      "---------------------\n",
      "4 3 8 9 5 7 2 1 6\n",
      "2 5 6 1 8 4 9 7 3\n",
      "1 7 9 3 2 6 8 4 5\n",
      "---------------------\n",
      "8 4 5 2 1 9 3 6 7\n",
      "9 1 3 7 6 8 5 2 4\n",
      "6 2 7 4 3 5 1 9 8\n"
     ]
    }
   ],
   "source": [
    "solve_and_display(r\"C:\\Users\\shing\\Puzzles\\sudoku_medium.txt.txt\")"
   ]
  },
  {
   "cell_type": "code",
   "execution_count": 14,
   "id": "2933a917-754f-4836-9de2-9f5820128b35",
   "metadata": {},
   "outputs": [
    {
     "name": "stdout",
     "output_type": "stream",
     "text": [
      "Initial Board:\n",
      "5 3 . . 7 . . . .\n",
      "6 . . 1 9 5 . . .\n",
      ". 9 8 . . . . 6 .\n",
      "---------------------\n",
      "8 . . . 6 . . . 3\n",
      "4 . . 8 . 3 . . 1\n",
      "7 . . . 2 . . . 6\n",
      "---------------------\n",
      ". 6 . . . . 2 8 .\n",
      ". . . 4 1 9 . . 5\n",
      ". . . . 8 . . 7 9\n",
      "\n",
      "Solved Board:\n",
      "5 3 4 6 7 8 9 1 2\n",
      "6 7 2 1 9 5 3 4 8\n",
      "1 9 8 3 4 2 5 6 7\n",
      "---------------------\n",
      "8 5 9 7 6 1 4 2 3\n",
      "4 2 6 8 5 3 7 9 1\n",
      "7 1 3 9 2 4 8 5 6\n",
      "---------------------\n",
      "9 6 1 5 3 7 2 8 4\n",
      "2 8 7 4 1 9 6 3 5\n",
      "3 4 5 2 8 6 1 7 9\n"
     ]
    }
   ],
   "source": [
    "solve_and_display(r\"C:\\Users\\shing\\Puzzles\\sudoku_easy.txt.txt\")"
   ]
  },
  {
   "cell_type": "code",
   "execution_count": 15,
   "id": "88db26b9-2de2-4dbd-a48b-fe1bef0a9342",
   "metadata": {},
   "outputs": [
    {
     "name": "stdout",
     "output_type": "stream",
     "text": [
      "Initial Board:\n",
      ". . . 6 . . 4 . .\n",
      "7 . . . . 3 6 . .\n",
      ". . . . 9 1 . 8 .\n",
      "---------------------\n",
      ". . . . . . . . .\n",
      ". 5 . 1 8 . . . 3\n",
      ". . . 3 . 6 . 4 5\n",
      "---------------------\n",
      ". 4 . 2 . . . 6 .\n",
      "9 . 3 . . . . . .\n",
      ". 2 . . . . 1 . .\n",
      "\n",
      "Solved Board:\n",
      "5 8 1 6 7 2 4 3 9\n",
      "7 9 2 8 4 3 6 5 1\n",
      "3 6 4 5 9 1 7 8 2\n",
      "---------------------\n",
      "4 3 8 9 5 7 2 1 6\n",
      "2 5 6 1 8 4 9 7 3\n",
      "1 7 9 3 2 6 8 4 5\n",
      "---------------------\n",
      "8 4 5 2 1 9 3 6 7\n",
      "9 1 3 7 6 8 5 2 4\n",
      "6 2 7 4 3 5 1 9 8\n"
     ]
    }
   ],
   "source": [
    "solve_and_display(r\"C:\\Users\\shing\\Puzzles\\sudoku_hard.txt.txt\")"
   ]
  },
  {
   "cell_type": "code",
   "execution_count": null,
   "id": "d40c1250-2d85-4027-9ba3-0c49ef8f7c66",
   "metadata": {},
   "outputs": [],
   "source": []
  }
 ],
 "metadata": {
  "kernelspec": {
   "display_name": "Python [conda env:base] *",
   "language": "python",
   "name": "conda-base-py"
  },
  "language_info": {
   "codemirror_mode": {
    "name": "ipython",
    "version": 3
   },
   "file_extension": ".py",
   "mimetype": "text/x-python",
   "name": "python",
   "nbconvert_exporter": "python",
   "pygments_lexer": "ipython3",
   "version": "3.12.7"
  }
 },
 "nbformat": 4,
 "nbformat_minor": 5
}
